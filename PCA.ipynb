{
 "cells": [
  {
   "cell_type": "code",
   "execution_count": 2,
   "metadata": {},
   "outputs": [],
   "source": [
    "#import libraries\n",
    "import pandas as pd\n",
    "import numpy as np\n",
    "import matplotlib.pyplot as plt\n",
    "import random as rd\n",
    "from sklearn import preprocessing\n",
    "from sklearn.decomposition import PCA"
   ]
  },
  {
   "cell_type": "code",
   "execution_count": 14,
   "metadata": {},
   "outputs": [],
   "source": [
    "#init 100 arbitrary genes\n",
    "genes = ['gene'+str(i) for i in range(1,101)]"
   ]
  },
  {
   "cell_type": "code",
   "execution_count": 15,
   "metadata": {},
   "outputs": [],
   "source": [
    "#10 differnet samples\n",
    "wt = ['wt' +str(i) for i in range(1,6)]\n",
    "ko = ['ko'+str(i) for i in range(1,6)]"
   ]
  },
  {
   "cell_type": "code",
   "execution_count": 16,
   "metadata": {},
   "outputs": [],
   "source": [
    "#put genes and samples into a data frame\n",
    "data = pd.DataFrame(columns = [*wt,*ko],index=genes)"
   ]
  },
  {
   "cell_type": "code",
   "execution_count": 17,
   "metadata": {},
   "outputs": [],
   "source": [
    "#simulate some random poisson data\n",
    "for gene in data.index:\n",
    "    data.loc[gene,'wt1':'wt5'] = np.random.poisson(lam=rd.randrange(10,1000),size=5)\n",
    "    data.loc[gene,'ko1':'ko5'] = np.random.poisson(lam=rd.randrange(10,1000),size=5)"
   ]
  },
  {
   "cell_type": "code",
   "execution_count": 23,
   "metadata": {},
   "outputs": [
    {
     "name": "stdout",
     "output_type": "stream",
     "text": [
      "(100, 10)\n"
     ]
    },
    {
     "data": {
      "text/html": [
       "<div>\n",
       "<style scoped>\n",
       "    .dataframe tbody tr th:only-of-type {\n",
       "        vertical-align: middle;\n",
       "    }\n",
       "\n",
       "    .dataframe tbody tr th {\n",
       "        vertical-align: top;\n",
       "    }\n",
       "\n",
       "    .dataframe thead th {\n",
       "        text-align: right;\n",
       "    }\n",
       "</style>\n",
       "<table border=\"1\" class=\"dataframe\">\n",
       "  <thead>\n",
       "    <tr style=\"text-align: right;\">\n",
       "      <th></th>\n",
       "      <th>wt1</th>\n",
       "      <th>wt2</th>\n",
       "      <th>wt3</th>\n",
       "      <th>wt4</th>\n",
       "      <th>wt5</th>\n",
       "      <th>ko1</th>\n",
       "      <th>ko2</th>\n",
       "      <th>ko3</th>\n",
       "      <th>ko4</th>\n",
       "      <th>ko5</th>\n",
       "    </tr>\n",
       "  </thead>\n",
       "  <tbody>\n",
       "    <tr>\n",
       "      <td>gene1</td>\n",
       "      <td>32</td>\n",
       "      <td>47</td>\n",
       "      <td>54</td>\n",
       "      <td>38</td>\n",
       "      <td>42</td>\n",
       "      <td>721</td>\n",
       "      <td>763</td>\n",
       "      <td>732</td>\n",
       "      <td>697</td>\n",
       "      <td>746</td>\n",
       "    </tr>\n",
       "    <tr>\n",
       "      <td>gene2</td>\n",
       "      <td>669</td>\n",
       "      <td>666</td>\n",
       "      <td>616</td>\n",
       "      <td>652</td>\n",
       "      <td>649</td>\n",
       "      <td>944</td>\n",
       "      <td>946</td>\n",
       "      <td>934</td>\n",
       "      <td>880</td>\n",
       "      <td>911</td>\n",
       "    </tr>\n",
       "    <tr>\n",
       "      <td>gene3</td>\n",
       "      <td>526</td>\n",
       "      <td>556</td>\n",
       "      <td>548</td>\n",
       "      <td>481</td>\n",
       "      <td>507</td>\n",
       "      <td>343</td>\n",
       "      <td>364</td>\n",
       "      <td>382</td>\n",
       "      <td>377</td>\n",
       "      <td>336</td>\n",
       "    </tr>\n",
       "    <tr>\n",
       "      <td>gene4</td>\n",
       "      <td>192</td>\n",
       "      <td>225</td>\n",
       "      <td>206</td>\n",
       "      <td>204</td>\n",
       "      <td>204</td>\n",
       "      <td>619</td>\n",
       "      <td>632</td>\n",
       "      <td>615</td>\n",
       "      <td>630</td>\n",
       "      <td>664</td>\n",
       "    </tr>\n",
       "    <tr>\n",
       "      <td>gene5</td>\n",
       "      <td>331</td>\n",
       "      <td>304</td>\n",
       "      <td>335</td>\n",
       "      <td>314</td>\n",
       "      <td>328</td>\n",
       "      <td>724</td>\n",
       "      <td>784</td>\n",
       "      <td>757</td>\n",
       "      <td>764</td>\n",
       "      <td>738</td>\n",
       "    </tr>\n",
       "  </tbody>\n",
       "</table>\n",
       "</div>"
      ],
      "text/plain": [
       "       wt1  wt2  wt3  wt4  wt5  ko1  ko2  ko3  ko4  ko5\n",
       "gene1   32   47   54   38   42  721  763  732  697  746\n",
       "gene2  669  666  616  652  649  944  946  934  880  911\n",
       "gene3  526  556  548  481  507  343  364  382  377  336\n",
       "gene4  192  225  206  204  204  619  632  615  630  664\n",
       "gene5  331  304  335  314  328  724  784  757  764  738"
      ]
     },
     "execution_count": 23,
     "metadata": {},
     "output_type": "execute_result"
    }
   ],
   "source": [
    "#print the data and dimensions\n",
    "print(data.shape)\n",
    "data.head()"
   ]
  },
  {
   "cell_type": "code",
   "execution_count": 42,
   "metadata": {},
   "outputs": [],
   "source": [
    "#scale the data so rows have 0 mean and unit variance\n",
    "scaled_data = preprocessing.scale(data.T)"
   ]
  },
  {
   "cell_type": "code",
   "execution_count": 50,
   "metadata": {},
   "outputs": [],
   "source": [
    "#preform the PCA\n",
    "pca=PCA()\n",
    "pca.fit(scaled_data)\n",
    "pca_data=pca.transform(scaled_data)"
   ]
  },
  {
   "cell_type": "code",
   "execution_count": 62,
   "metadata": {},
   "outputs": [
    {
     "data": {
      "image/png": "[encoded data removed]",
      "text/plain": [
       "<Figure size 432x288 with 1 Axes>"
      ]
     },
     "metadata": {
      "needs_background": "light"
     },
     "output_type": "display_data"
    }
   ],
   "source": [
    "#produce the scree plot\n",
    "#over 90% of the variation in the data is explained by the first principal component \n",
    "per_var = np.round(pca.explained_variance_ratio_*100,decimals=1)\n",
    "labels=['PC'+str(i) for i in range(1,len(per_var)+1)]\n",
    "\n",
    "plt.bar(x=range(1,len(per_var)+1),height=per_var,tick_label=labels)\n",
    "plt.title(\"scree plot\")\n",
    "plt.xlabel(\"Principal componetns\")\n",
    "plt.ylabel(\"Percent explained variance\")\n",
    "plt.show()"
   ]
  },
  {
   "cell_type": "code",
   "execution_count": 60,
   "metadata": {},
   "outputs": [
    {
     "data": {
      "image/png": "[encoded data removed]",
      "text/plain": [
       "<Figure size 432x288 with 1 Axes>"
      ]
     },
     "metadata": {
      "needs_background": "light"
     },
     "output_type": "display_data"
    }
   ],
   "source": [
    "#create a pc1 pc2 plot \n",
    "#showing that the wt are clustered together suggesting they are correlated \n",
    "#same for ko samples, this is what we expect from how we simulaed our data\n",
    "pca_df = pd.DataFrame(pca_data,index=[*wt, *ko],columns=labels)\n",
    "\n",
    "plt.scatter(pca_df.PC1,pca_df.PC2)\n",
    "plt.title(\"PCA graph\")\n",
    "plt.xlabel('PC1-{0}%'.format(per_var[0]))\n",
    "plt.ylabel('PC2-{0}%'.format(per_var[1]))\n",
    "\n",
    "for sample in pca_df.index:\n",
    "    plt.annotate(sample, (pca_df.PC1.loc[sample], pca_df.PC2.loc[sample]))\n",
    "plt.show()"
   ]
  },
  {
   "cell_type": "code",
   "execution_count": 63,
   "metadata": {},
   "outputs": [
    {
     "name": "stdout",
     "output_type": "stream",
     "text": [
      "gene96    0.105054\n",
      "gene99   -0.105038\n",
      "gene37    0.105029\n",
      "gene83   -0.105028\n",
      "gene69    0.105012\n",
      "gene51   -0.105010\n",
      "gene30   -0.105007\n",
      "gene32    0.104998\n",
      "gene18   -0.104989\n",
      "gene75    0.104970\n",
      "dtype: float64\n"
     ]
    }
   ],
   "source": [
    "#creates the loading scores\n",
    "#the loading scores are similar, this suggests that lots of variables (genes) are responsible for the seperation of the samples\n",
    "loading_scores = pd.Series(pca.components_[0], index=genes)\n",
    "sorted_loading_scores = loading_scores.abs().sort_values(ascending=False)\n",
    "top_10_genes = sorted_loading_scores[0:10].index.values\n",
    "print(loading_scores[top_10_genes])\n"
   ]
  }
 ],
 "metadata": {
  "kernelspec": {
   "display_name": "Python 3",
   "language": "python",
   "name": "python3"
  },
  "language_info": {
   "codemirror_mode": {
    "name": "ipython",
    "version": 3
   },
   "file_extension": ".py",
   "mimetype": "text/x-python",
   "name": "python",
   "nbconvert_exporter": "python",
   "pygments_lexer": "ipython3",
   "version": "3.7.4"
  }
 },
 "nbformat": 4,
 "nbformat_minor": 2
}
